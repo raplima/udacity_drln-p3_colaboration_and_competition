{
 "cells": [
  {
   "cell_type": "markdown",
   "metadata": {},
   "source": [
    "# Collaboration and Competition\n",
    "\n",
    "---\n",
    "\n",
    "You are welcome to use this coding environment to train your agent for the project.  Follow the instructions below to get started!\n",
    "\n",
    "### 1. Start the Environment\n",
    "\n",
    "Run the next code cell to install a few packages.  This line will take a few minutes to run!"
   ]
  },
  {
   "cell_type": "code",
   "execution_count": 1,
   "metadata": {},
   "outputs": [
    {
     "name": "stdout",
     "output_type": "stream",
     "text": [
      "\u001b[31mtensorflow 1.7.1 has requirement numpy>=1.13.3, but you'll have numpy 1.12.1 which is incompatible.\u001b[0m\r\n",
      "\u001b[31mipython 6.5.0 has requirement prompt-toolkit<2.0.0,>=1.0.15, but you'll have prompt-toolkit 3.0.5 which is incompatible.\u001b[0m\r\n"
     ]
    }
   ],
   "source": [
    "!pip -q install ./python"
   ]
  },
  {
   "cell_type": "markdown",
   "metadata": {},
   "source": [
    "The environment is already saved in the Workspace and can be accessed at the file path provided below. "
   ]
  },
  {
   "cell_type": "code",
   "execution_count": 2,
   "metadata": {},
   "outputs": [
    {
     "name": "stderr",
     "output_type": "stream",
     "text": [
      "INFO:unityagents:\n",
      "'Academy' started successfully!\n",
      "Unity Academy name: Academy\n",
      "        Number of Brains: 1\n",
      "        Number of External Brains : 1\n",
      "        Lesson number : 0\n",
      "        Reset Parameters :\n",
      "\t\t\n",
      "Unity brain name: TennisBrain\n",
      "        Number of Visual Observations (per agent): 0\n",
      "        Vector Observation space type: continuous\n",
      "        Vector Observation space size (per agent): 8\n",
      "        Number of stacked Vector Observation: 3\n",
      "        Vector Action space type: continuous\n",
      "        Vector Action space size (per agent): 2\n",
      "        Vector Action descriptions: , \n"
     ]
    }
   ],
   "source": [
    "from unityagents import UnityEnvironment\n",
    "import numpy as np\n",
    "\n",
    "env = UnityEnvironment(file_name=\"/data/Tennis_Linux_NoVis/Tennis\")"
   ]
  },
  {
   "cell_type": "markdown",
   "metadata": {},
   "source": [
    "Environments contain **_brains_** which are responsible for deciding the actions of their associated agents. Here we check for the first brain available, and set it as the default brain we will be controlling from Python."
   ]
  },
  {
   "cell_type": "code",
   "execution_count": 3,
   "metadata": {},
   "outputs": [],
   "source": [
    "# get the default brain\n",
    "brain_name = env.brain_names[0]\n",
    "brain = env.brains[brain_name]"
   ]
  },
  {
   "cell_type": "markdown",
   "metadata": {},
   "source": [
    "### 2. Examine the State and Action Spaces\n",
    "\n",
    "Run the code cell below to print some information about the environment."
   ]
  },
  {
   "cell_type": "code",
   "execution_count": 4,
   "metadata": {},
   "outputs": [
    {
     "name": "stdout",
     "output_type": "stream",
     "text": [
      "Number of agents: 2\n",
      "Size of each action: 2\n",
      "There are 2 agents. Each observes a state with length: 24\n",
      "The state for the first agent looks like: [ 0.          0.          0.          0.          0.          0.          0.\n",
      "  0.          0.          0.          0.          0.          0.          0.\n",
      "  0.          0.         -6.65278625 -1.5        -0.          0.\n",
      "  6.83172083  6.         -0.          0.        ]\n"
     ]
    }
   ],
   "source": [
    "# reset the environment\n",
    "env_info = env.reset(train_mode=True)[brain_name]\n",
    "\n",
    "# number of agents \n",
    "num_agents = len(env_info.agents)\n",
    "print('Number of agents:', num_agents)\n",
    "\n",
    "# size of each action\n",
    "action_size = brain.vector_action_space_size\n",
    "print('Size of each action:', action_size)\n",
    "\n",
    "# examine the state space \n",
    "states = env_info.vector_observations\n",
    "state_size = states.shape[1]\n",
    "print('There are {} agents. Each observes a state with length: {}'.format(states.shape[0], state_size))\n",
    "print('The state for the first agent looks like:', states[0])"
   ]
  },
  {
   "cell_type": "markdown",
   "metadata": {},
   "source": [
    "### 3. Take Random Actions in the Environment\n",
    "\n",
    "In the next code cell, you will learn how to use the Python API to control the agent and receive feedback from the environment.\n",
    "\n",
    "Note that **in this coding environment, you will not be able to watch the agents while they are training**, and you should set `train_mode=True` to restart the environment."
   ]
  },
  {
   "cell_type": "code",
   "execution_count": 5,
   "metadata": {},
   "outputs": [
    {
     "name": "stdout",
     "output_type": "stream",
     "text": [
      "Total score (averaged over agents) this episode: -0.004999999888241291\n",
      "Total score (averaged over agents) this episode: -0.004999999888241291\n",
      "Total score (averaged over agents) this episode: -0.004999999888241291\n",
      "Total score (averaged over agents) this episode: 0.04500000085681677\n",
      "Total score (averaged over agents) this episode: -0.004999999888241291\n"
     ]
    }
   ],
   "source": [
    "for i in range(5):                                         # play game for 5 episodes\n",
    "    env_info = env.reset(train_mode=False)[brain_name]     # reset the environment    \n",
    "    states = env_info.vector_observations                  # get the current state (for each agent)\n",
    "    scores = np.zeros(num_agents)                          # initialize the score (for each agent)\n",
    "    while True:\n",
    "        actions = np.random.randn(num_agents, action_size) # select an action (for each agent)\n",
    "        actions = np.clip(actions, -1, 1)                  # all actions between -1 and 1\n",
    "        env_info = env.step(actions)[brain_name]           # send all actions to tne environment\n",
    "        next_states = env_info.vector_observations         # get next state (for each agent)\n",
    "        rewards = env_info.rewards                         # get reward (for each agent)\n",
    "        dones = env_info.local_done                        # see if episode finished\n",
    "        scores += env_info.rewards                         # update the score (for each agent)\n",
    "        states = next_states                               # roll over states to next time step\n",
    "        if np.any(dones):                                  # exit loop if episode finished\n",
    "            break\n",
    "    print('Total score (averaged over agents) this episode: {}'.format(np.mean(scores)))"
   ]
  },
  {
   "cell_type": "markdown",
   "metadata": {},
   "source": [
    "### 4. It's Your Turn!\n",
    "\n",
    "Now it's your turn to train your own agent to solve the environment!  A few **important notes**:\n",
    "- When training the environment, set `train_mode=True`, so that the line for resetting the environment looks like the following:\n",
    "```python\n",
    "env_info = env.reset(train_mode=True)[brain_name]\n",
    "```\n",
    "- To structure your work, you're welcome to work directly in this Jupyter notebook, or you might like to start over with a new file!  You can see the list of files in the workspace by clicking on **_Jupyter_** in the top left corner of the notebook.\n",
    "- In this coding environment, you will not be able to watch the agents while they are training.  However, **_after training the agents_**, you can download the saved model weights to watch the agents on your own machine! "
   ]
  },
  {
   "cell_type": "markdown",
   "metadata": {},
   "source": [
    "***\n",
    "***\n",
    "#### 1. Load agent and set up environment\n",
    "Following a structure similar to the one \n",
    "[here](https://github.com/raplima/udacity_drln-p1_navigation/blob/master/Navigation.ipynb) \n",
    "(which by itself followed one of the provided examples), the agent class is defined in [ddpg_agent.py](./ddpg_agent.py) script. \n",
    "The agent class uses the Actor and Critic networks defined in [model.py](./model.py).  \n",
    "Both [ddpg_agent.py](./ddpg_agent.py) and [model.py](./model.py) are slighlty modified from [Udacity Deep Reinforcement Learning Nanodegree](https://www.udacity.com/course/deep-reinforcement-learning-nanodegree--nd893) content."
   ]
  },
  {
   "cell_type": "code",
   "execution_count": 6,
   "metadata": {},
   "outputs": [],
   "source": [
    "# import the necessary libraries\n",
    "from collections import deque\n",
    "import torch\n",
    "import matplotlib.pyplot as plt\n",
    "%matplotlib inline"
   ]
  },
  {
   "cell_type": "code",
   "execution_count": 7,
   "metadata": {},
   "outputs": [
    {
     "name": "stdout",
     "output_type": "stream",
     "text": [
      "Total score (max over agents) this episode: 0.000\n",
      "Total score (max over agents) this episode: 0.000\n",
      "Total score (max over agents) this episode: 0.000\n",
      "Total score (max over agents) this episode: 0.000\n",
      "Total score (max over agents) this episode: 0.000\n"
     ]
    }
   ],
   "source": [
    "from ddpg import MADDPG\n",
    "# how does it perform without training? \n",
    "agent = MADDPG( num_agents, state_size, action_size)\n",
    "\n",
    "for i in range(5):                                         # play game for 5 episodes\n",
    "    env_info = env.reset(train_mode=False)[brain_name]     # reset the environment    \n",
    "    states = env_info.vector_observations                  # get the current state (for each agent)\n",
    "    scores = np.zeros(num_agents)                          # initialize the score (for each agent)\n",
    "    while True:\n",
    "        actions = agent.act(states)                         # select an action (for each agent)\n",
    "        env_info = env.step(actions)[brain_name]           # send all actions to tne environment\n",
    "        next_states = env_info.vector_observations         # get next state (for each agent)\n",
    "        rewards = env_info.rewards                         # get reward (for each agent)\n",
    "        dones = env_info.local_done                        # see if episode finished\n",
    "        scores += env_info.rewards                         # update the score (for each agent)\n",
    "        states = next_states                               # roll over states to next time step\n",
    "        if np.any(dones):                                  # exit loop if episode finished\n",
    "            break\n",
    "    print('Total score (max over agents) this episode: {:.3f}'.format(np.max(scores)))"
   ]
  },
  {
   "cell_type": "markdown",
   "metadata": {},
   "source": [
    "#### 2. Train the agent\n",
    "Train the agent and plot the results"
   ]
  },
  {
   "cell_type": "code",
   "execution_count": 8,
   "metadata": {},
   "outputs": [],
   "source": [
    "def train(agent, env, n_episodes=3000, success_score=0.5):\n",
    "    \"\"\"Train DDPG agent\n",
    "    \n",
    "    Params\n",
    "    ======\n",
    "        agent : agent object\n",
    "        env: unity environment\n",
    "        n_episodes (int): maximum number of training episodes\n",
    "        max_t (int): maximum number of timesteps per episode\n",
    "        eps_start (float): starting value of epsilon, for epsilon-greedy action selection\n",
    "        eps_end (float): minimum value of epsilon\n",
    "        eps_decay (float): multiplicative factor (per episode) for decreasing epsilon\n",
    "        success_score: agent must get an average score of success_score over 100 consecutive episodes to consider solved\n",
    "    \"\"\"\n",
    "    scores_list = []                                               # list containing scores from each episode\n",
    "    scores_avg  = []\n",
    "    scores_window = deque([0.0 for _ in range(100)], maxlen=100)   # last 100 scores\n",
    "    \n",
    "    for i_episode in range(1, n_episodes+1):\n",
    "        env_info = env.reset(train_mode=True)[brain_name]      # reset the environment\n",
    "        states = env_info.vector_observations                  # get the current state (for each agent)\n",
    "        scores = np.zeros(num_agents)                          # initialize the score (for each agent)\n",
    "\n",
    "        while True:          \n",
    "            actions = agent.act(states)       # select an action (for each agent)\n",
    "            env_info = env.step(actions)[brain_name]           # send all actions to tne environment\n",
    "            next_states = env_info.vector_observations         # get next state (for each agent)\n",
    "            rewards = env_info.rewards                         # get reward (for each agent)\n",
    "            dones = env_info.local_done                        # see if episode finished\n",
    "            \n",
    "            agent.step(states, actions, rewards, next_states, dones) # agents step (train) \n",
    "            #agent.step(states, actions, np.reshape(np.array(rewards), (-1,1)), next_states, np.reshape(np.array(rewards), (-1,1)))\n",
    "\n",
    "            scores += env_info.rewards                         # update the score (for each agent)\n",
    "            states = next_states                               # roll over states to next time step\n",
    "\n",
    "            if np.any(dones):                                  # exit loop if episode finished\n",
    "                break\n",
    "        \n",
    "        # add up the rewards that each agent received (without discounting), \n",
    "        # to get a score for each agent. \n",
    "        # This yields 2 (potentially different) scores. We then take the maximum of these 2 scores.\n",
    "        episode_reward = np.max(np.sum(np.array(rewards),axis=0))\n",
    "        \n",
    "        scores_window.append(np.max(scores))       # save most recent score\n",
    "        scores_list.append(np.max(scores))              # save most recent score\n",
    "        scores_avg.append(np.mean(scores_window))  # save average score over last 100 \n",
    "        \n",
    "        print('\\rEpisode {}\\tAverage Score: {:.2f}\\tScore: {:.3f} ({:.3f}:{:.3f})'.format(i_episode, \n",
    "                                                                          np.mean(scores_window), \n",
    "                                                                          np.max(scores), \n",
    "                                                                          scores[0],\n",
    "                                                                          scores[1]), end=\"\")\n",
    "\n",
    "        if i_episode % 100 == 0:\n",
    "            print('\\rEpisode {}\\tAverage Score: {:.2f}'.format(i_episode, np.mean(scores_window)))\n",
    "        if np.mean(scores_window)>=success_score:\n",
    "            print('\\nEnvironment solved in {:d} episodes!\\tAverage Score: {:.2f}'.format(i_episode, np.mean(scores_window)))\n",
    "            agent.save_agents()\n",
    "            break\n",
    "        \n",
    "    return scores_list, scores_avg"
   ]
  },
  {
   "cell_type": "code",
   "execution_count": 9,
   "metadata": {},
   "outputs": [
    {
     "name": "stdout",
     "output_type": "stream",
     "text": [
      "Episode 100\tAverage Score: 0.01\tScore: 0.000 (-0.010:0.000)\n",
      "Episode 200\tAverage Score: 0.03\tScore: 0.000 (-0.010:0.000)\n",
      "Episode 300\tAverage Score: 0.03\tScore: 0.000 (0.000:-0.010)\n",
      "Episode 400\tAverage Score: 0.04\tScore: 0.000 (-0.010:0.000)\n",
      "Episode 500\tAverage Score: 0.06\tScore: 0.100 (0.090:0.100))\n",
      "Episode 600\tAverage Score: 0.08\tScore: 0.100 (0.100:0.090))\n",
      "Episode 700\tAverage Score: 0.09\tScore: 0.100 (-0.010:0.100)\n",
      "Episode 800\tAverage Score: 0.09\tScore: 0.000 (0.000:-0.010)\n",
      "Episode 900\tAverage Score: 0.11\tScore: 0.100 (-0.010:0.100)\n",
      "Episode 1000\tAverage Score: 0.13\tScore: 0.000 (0.000:-0.010)\n",
      "Episode 1100\tAverage Score: 0.14\tScore: 0.100 (0.090:0.100))\n",
      "Episode 1200\tAverage Score: 0.16\tScore: 0.000 (0.000:-0.010)\n",
      "Episode 1300\tAverage Score: 0.20\tScore: 0.100 (0.090:0.100))\n",
      "Episode 1400\tAverage Score: 0.31\tScore: 0.200 (0.200:0.090))\n",
      "Episode 1500\tAverage Score: 0.29\tScore: 0.800 (0.800:0.790))\n",
      "Episode 1600\tAverage Score: 0.46\tScore: 0.100 (0.100:0.090))\n",
      "Episode 1622\tAverage Score: 0.51\tScore: 1.700 (1.700:1.490)\n",
      "Environment solved in 1622 episodes!\tAverage Score: 0.51\n",
      "CPU times: user 1h 42min 4s, sys: 2min 32s, total: 1h 44min 36s\n",
      "Wall time: 1h 47min 27s\n"
     ]
    }
   ],
   "source": [
    "%%time\n",
    "agent = MADDPG( num_agents, state_size, action_size)\n",
    "scores, scores_avg = train(agent, env)"
   ]
  },
  {
   "cell_type": "code",
   "execution_count": 10,
   "metadata": {},
   "outputs": [
    {
     "data": {
      "image/png": "[encoded data removed]",
      "text/plain": [
       "<matplotlib.figure.Figure at 0x7f479683eda0>"
      ]
     },
     "metadata": {
      "needs_background": "light"
     },
     "output_type": "display_data"
    }
   ],
   "source": [
    "# plot the scores\n",
    "fig = plt.figure()\n",
    "ax = fig.add_subplot(111)\n",
    "ax.plot(np.arange(len(scores)), scores, label='Scores')\n",
    "ax.plot(np.arange(len(scores)), scores_avg, label='Scores Average (100)')\n",
    "ax.axhline(y=0.5, color='r')\n",
    "ax.set_ylabel('Score')\n",
    "ax.set_xlabel('Episode #')\n",
    "ax.set_xlim([0, len(scores)])\n",
    "ax.legend(fontsize='medium')\n",
    "plt.savefig('training.pdf')\n",
    "plt.show()"
   ]
  },
  {
   "cell_type": "markdown",
   "metadata": {},
   "source": [
    "#### 3. Evaluate the trained agent\n",
    "Load the saved weights and see a trained agent in action"
   ]
  },
  {
   "cell_type": "code",
   "execution_count": 13,
   "metadata": {},
   "outputs": [
    {
     "name": "stdout",
     "output_type": "stream",
     "text": [
      "Score: 0.100 (0.100:0.090)\n",
      "Score: 1.000 (1.000:0.990)\n",
      "Score: 0.290 (0.100:0.290)\n"
     ]
    }
   ],
   "source": [
    "# create new agent\n",
    "agent = MADDPG( num_agents, state_size, action_size)\n",
    "# load the saved weights\n",
    "agent.load_agents()\n",
    "\n",
    "for _ in range(3):\n",
    "    # reset environment\n",
    "    env_info = env.reset(train_mode=False)[brain_name]     # reset the environment, training is False    \n",
    "    state = env_info.vector_observations                   # get the current state\n",
    "    scores = np.zeros(num_agents)                          # initialize the score (for each agent)\n",
    "    while True:    \n",
    "        action = agent.act(state)                           # send the action to the environment\n",
    "        env_info = env.step(action)[brain_name]             # send all actions to environment\n",
    "        next_state = env_info.vector_observations           # get the next state\n",
    "        rewards = env_info.rewards                          # get the reward\n",
    "        dones = env_info.local_done                         # see if episode has finished\n",
    "\n",
    "        state = next_state                                  # update state\n",
    "        scores += rewards                                   # update reward\n",
    "\n",
    "        if np.any(dones):                                   # exit loop if episode finished\n",
    "            break\n",
    "    print('Score: {:.3f} ({:.3f}:{:.3f})'.format(np.max(scores), scores[0], scores[1]))"
   ]
  },
  {
   "cell_type": "markdown",
   "metadata": {},
   "source": [
    "When finished, you can close the environment."
   ]
  },
  {
   "cell_type": "code",
   "execution_count": 14,
   "metadata": {},
   "outputs": [],
   "source": [
    "env.close()"
   ]
  }
 ],
 "metadata": {
  "kernelspec": {
   "display_name": "Python 3",
   "language": "python",
   "name": "python3"
  }
 },
 "nbformat": 4,
 "nbformat_minor": 2
}
